{
  "nbformat": 4,
  "nbformat_minor": 0,
  "metadata": {
    "colab": {
      "provenance": [],
      "authorship_tag": "ABX9TyNdnykcacgyPX5FZuNRcp46",
      "include_colab_link": true
    },
    "kernelspec": {
      "name": "python3",
      "display_name": "Python 3"
    },
    "language_info": {
      "name": "python"
    }
  },
  "cells": [
    {
      "cell_type": "markdown",
      "metadata": {
        "id": "view-in-github",
        "colab_type": "text"
      },
      "source": [
        "<a href=\"https://colab.research.google.com/github/dsharanya2001/MLHW3/blob/main/MLA.ipynb\" target=\"_parent\"><img src=\"https://colab.research.google.com/assets/colab-badge.svg\" alt=\"Open In Colab\"/></a>"
      ]
    },
    {
      "cell_type": "code",
      "execution_count": 12,
      "metadata": {
        "id": "cR44lAU5TM2B"
      },
      "outputs": [],
      "source": [
        "import pandas as pd\n",
        "import numpy as np\n",
        "from sklearn.model_selection import train_test_split\n",
        "from sklearn.model_selection import cross_val_score\n",
        "from sklearn.model_selection import KFold\n",
        "from sklearn.ensemble import RandomForestClassifier\n",
        "from sklearn import tree\n",
        "from sklearn.metrics import accuracy_score\n",
        "\n",
        "# reading the Test and Train data\n",
        "_data = pd.read_csv(\"/content/train.csv\")\n",
        "_test_data = pd.read_csv(\"/content/test.csv\")"
      ]
    },
    {
      "cell_type": "code",
      "source": [
        "print(_data)\n",
        "\n",
        "# Removing NA/null and duplicate values from columns\n",
        "_data = _data.dropna()\n",
        "_data = _data.drop_duplicates()\n",
        "\n",
        "# Tranforming sex, Embark and Pclass to columns for more information and detailing\n",
        "new_col = [\"Sex\",\"Embarked\"]\n",
        "# new_data = []\n",
        "\n",
        "\n",
        "_data['Embarked'] = _data['Embarked'].map( {'S': 0, 'C': 1, 'Q': 2} ).astype(int)\n",
        "_data['Sex'] = _data['Sex'].map( {'male': 0, 'female': 1} ).astype(int)\n",
        "\n",
        "# Dropping redundant columns, we also drop sex, Pclass, Embarked since these values are transformed to classes/columns and added to the original data.\n",
        "unwanted_col = [\"Name\",\"Cabin\",\"Ticket\",\"Fare\"]\n",
        "_data = _data.drop(unwanted_col,axis=1)\n",
        "\n",
        "# Use interpolate function to fill all the missing values in the age. Interpolate fills the missing values with the median value\n",
        "_data[\"Age\"] = _data[\"Age\"].interpolate()\n",
        "print(_data)"
      ],
      "metadata": {
        "colab": {
          "base_uri": "https://localhost:8080/"
        },
        "id": "x1EDSoyRTUlB",
        "outputId": "40635f0f-70a1-437d-b441-92e68da11dd8"
      },
      "execution_count": 13,
      "outputs": [
        {
          "output_type": "stream",
          "name": "stdout",
          "text": [
            "     PassengerId  Survived  Pclass  \\\n",
            "0              1         0       3   \n",
            "1              2         1       1   \n",
            "2              3         1       3   \n",
            "3              4         1       1   \n",
            "4              5         0       3   \n",
            "..           ...       ...     ...   \n",
            "886          887         0       2   \n",
            "887          888         1       1   \n",
            "888          889         0       3   \n",
            "889          890         1       1   \n",
            "890          891         0       3   \n",
            "\n",
            "                                                  Name     Sex   Age  SibSp  \\\n",
            "0                              Braund, Mr. Owen Harris    male  22.0      1   \n",
            "1    Cumings, Mrs. John Bradley (Florence Briggs Th...  female  38.0      1   \n",
            "2                               Heikkinen, Miss. Laina  female  26.0      0   \n",
            "3         Futrelle, Mrs. Jacques Heath (Lily May Peel)  female  35.0      1   \n",
            "4                             Allen, Mr. William Henry    male  35.0      0   \n",
            "..                                                 ...     ...   ...    ...   \n",
            "886                              Montvila, Rev. Juozas    male  27.0      0   \n",
            "887                       Graham, Miss. Margaret Edith  female  19.0      0   \n",
            "888           Johnston, Miss. Catherine Helen \"Carrie\"  female   NaN      1   \n",
            "889                              Behr, Mr. Karl Howell    male  26.0      0   \n",
            "890                                Dooley, Mr. Patrick    male  32.0      0   \n",
            "\n",
            "     Parch            Ticket     Fare Cabin Embarked  \n",
            "0        0         A/5 21171   7.2500   NaN        S  \n",
            "1        0          PC 17599  71.2833   C85        C  \n",
            "2        0  STON/O2. 3101282   7.9250   NaN        S  \n",
            "3        0            113803  53.1000  C123        S  \n",
            "4        0            373450   8.0500   NaN        S  \n",
            "..     ...               ...      ...   ...      ...  \n",
            "886      0            211536  13.0000   NaN        S  \n",
            "887      0            112053  30.0000   B42        S  \n",
            "888      2        W./C. 6607  23.4500   NaN        S  \n",
            "889      0            111369  30.0000  C148        C  \n",
            "890      0            370376   7.7500   NaN        Q  \n",
            "\n",
            "[891 rows x 12 columns]\n",
            "     PassengerId  Survived  Pclass  Sex   Age  SibSp  Parch  Embarked\n",
            "1              2         1       1    1  38.0      1      0         1\n",
            "3              4         1       1    1  35.0      1      0         0\n",
            "6              7         0       1    0  54.0      0      0         0\n",
            "10            11         1       3    1   4.0      1      1         0\n",
            "11            12         1       1    1  58.0      0      0         0\n",
            "..           ...       ...     ...  ...   ...    ...    ...       ...\n",
            "871          872         1       1    1  47.0      1      1         0\n",
            "872          873         0       1    0  33.0      0      0         0\n",
            "879          880         1       1    1  56.0      0      1         1\n",
            "887          888         1       1    1  19.0      0      0         0\n",
            "889          890         1       1    0  26.0      0      0         1\n",
            "\n",
            "[183 rows x 8 columns]\n"
          ]
        }
      ]
    },
    {
      "cell_type": "code",
      "source": [
        "X = _data.drop([\"Survived\"],axis=1).values\n",
        "Y = _data[\"Survived\"].values\n",
        "\n",
        "# X still has survived column values removing the column\n",
        "# X = np.delete(X,1,axis=1)\n",
        "\n",
        "# Using Decision tree classifier for decision tree\n",
        "clf = tree.DecisionTreeClassifier(max_depth = 3)\n",
        "clf = clf.fit(X,Y)\n",
        "# print(clf.score)\n",
        "tree.plot_tree(clf,class_names = ['Survived','Not Survived'])\n",
        "clf.score(X,Y)"
      ],
      "metadata": {
        "colab": {
          "base_uri": "https://localhost:8080/",
          "height": 423
        },
        "id": "EbHcvVxqTf6g",
        "outputId": "0cf62682-e81b-4fa3-d2f4-d83a98716906"
      },
      "execution_count": null,
      "outputs": [
        {
          "output_type": "execute_result",
          "data": {
            "text/plain": [
              "0.7978142076502732"
            ]
          },
          "metadata": {},
          "execution_count": 4
        },
        {
          "output_type": "display_data",
          "data": {
            "text/plain": [
              "<Figure size 640x480 with 1 Axes>"
            ],
            "image/png": "[encoded data removed]"
          },
          "metadata": {}
        }
      ]
    },
    {
      "cell_type": "code",
      "source": [
        "# get_dummies converts the values of column to a set of columns or class of different values.\n",
        "\n",
        "_test_data['Embarked'] = _test_data['Embarked'].map( {'S': 0, 'C': 1, 'Q': 2} ).astype(int)\n",
        "_test_data['Sex'] = _test_data['Sex'].map( {'male': 0, 'female': 1} ).astype(int)\n",
        "\n",
        "_test_data[\"Age\"] = _test_data[\"Age\"].interpolate()\n",
        "\n",
        "_tested_data = _test_data[\"PassengerId\"]\n",
        "_test_data = _test_data.drop(unwanted_col,axis=1)\n",
        "_test_data=_test_data.dropna()\n",
        "\n",
        "classified_val = clf.predict(_test_data)\n",
        "classified_data = pd.DataFrame({\"PassengerId\":_tested_data,\"Survived\":classified_val})\n",
        "print(classified_data)"
      ],
      "metadata": {
        "colab": {
          "base_uri": "https://localhost:8080/"
        },
        "id": "62mDTxRPTkkc",
        "outputId": "ab8e946c-7e9f-42ae-ea91-5022cd902d7c"
      },
      "execution_count": null,
      "outputs": [
        {
          "output_type": "stream",
          "name": "stdout",
          "text": [
            "     PassengerId  Survived\n",
            "0            892         0\n",
            "1            893         1\n",
            "2            894         0\n",
            "3            895         0\n",
            "4            896         1\n",
            "..           ...       ...\n",
            "413         1305         0\n",
            "414         1306         1\n",
            "415         1307         0\n",
            "416         1308         0\n",
            "417         1309         0\n",
            "\n",
            "[418 rows x 2 columns]\n"
          ]
        },
        {
          "output_type": "stream",
          "name": "stderr",
          "text": [
            "/usr/local/lib/python3.10/dist-packages/sklearn/base.py:432: UserWarning: X has feature names, but DecisionTreeClassifier was fitted without feature names\n",
            "  warnings.warn(\n"
          ]
        }
      ]
    },
    {
      "cell_type": "code",
      "source": [
        "\n",
        "KFold,\n",
        "# For 5 fold cross validation we divide the dataset into 5 parts and each time we choose the 4 parts as training set and the remaining as testset\n",
        "cv = KFold(n_splits=5)\n",
        "cross_Validation_scores = cross_val_score(clf,X,Y,cv=cv)\n",
        "print(cross_Validation_scores.mean())"
      ],
      "metadata": {
        "colab": {
          "base_uri": "https://localhost:8080/"
        },
        "id": "yi9mVPlaTtrv",
        "outputId": "9bd1d972-263e-4655-9622-652667031e06"
      },
      "execution_count": null,
      "outputs": [
        {
          "output_type": "stream",
          "name": "stdout",
          "text": [
            "0.7639639639639639\n"
          ]
        }
      ]
    },
    {
      "cell_type": "code",
      "source": [
        "model_rf = RandomForestClassifier()\n",
        "model_rf = model_rf.fit(X,Y)\n",
        "y_pred_forest = model_rf.predict(_test_data)\n",
        "y_pred_forest\n",
        "cross_Validation_scores = cross_val_score(model_rf,X,Y,cv=cv)\n",
        "print(cross_Validation_scores.mean())"
      ],
      "metadata": {
        "colab": {
          "base_uri": "https://localhost:8080/"
        },
        "id": "CpG8btxkTx0T",
        "outputId": "b76a6be1-cc17-4288-afb2-f43c43ec3415"
      },
      "execution_count": null,
      "outputs": [
        {
          "output_type": "stream",
          "name": "stderr",
          "text": [
            "/usr/local/lib/python3.10/dist-packages/sklearn/base.py:432: UserWarning: X has feature names, but RandomForestClassifier was fitted without feature names\n",
            "  warnings.warn(\n"
          ]
        },
        {
          "output_type": "stream",
          "name": "stdout",
          "text": [
            "0.7321321321321321\n"
          ]
        }
      ]
    },
    {
      "cell_type": "code",
      "source": [
        "from sklearn.ensemble import BaggingClassifier\n",
        "classification_1 = tree.DecisionTreeClassifier(max_depth=3)\n",
        "bagging_classifier = BaggingClassifier(estimator=classification_1,n_estimators=100,random_state=1)\n",
        "bagging_classifier.fit(X,Y)\n",
        "y_pred = bagging_classifier.predict(_test_data)\n",
        "# Calculate the accuracy score\n",
        "bagging_classifier.score(X,Y)"
      ],
      "metadata": {
        "colab": {
          "base_uri": "https://localhost:8080/"
        },
        "id": "TyVfD3ufT1Kp",
        "outputId": "5a9d3827-81f1-4ae8-e377-51a6fb87666a"
      },
      "execution_count": null,
      "outputs": [
        {
          "output_type": "stream",
          "name": "stderr",
          "text": [
            "/usr/local/lib/python3.10/dist-packages/sklearn/base.py:432: UserWarning: X has feature names, but BaggingClassifier was fitted without feature names\n",
            "  warnings.warn(\n"
          ]
        },
        {
          "output_type": "execute_result",
          "data": {
            "text/plain": [
              "0.825136612021858"
            ]
          },
          "metadata": {},
          "execution_count": 8
        }
      ]
    },
    {
      "cell_type": "code",
      "source": [
        "from sklearn.ensemble import AdaBoostClassifier\n",
        "adaBoost = AdaBoostClassifier(learning_rate=1.0,n_estimators=100)\n",
        "adaBoost.fit(X,Y)\n",
        "y_pred = adaBoost.predict(_test_data)\n",
        "# Calculate the accuracy score\n",
        "adaBoost.score(X,Y)"
      ],
      "metadata": {
        "colab": {
          "base_uri": "https://localhost:8080/"
        },
        "id": "ppou3EfeT4BN",
        "outputId": "95514621-c160-4718-e9e4-eb76731bfbb0"
      },
      "execution_count": null,
      "outputs": [
        {
          "output_type": "stream",
          "name": "stderr",
          "text": [
            "/usr/local/lib/python3.10/dist-packages/sklearn/base.py:432: UserWarning: X has feature names, but AdaBoostClassifier was fitted without feature names\n",
            "  warnings.warn(\n"
          ]
        },
        {
          "output_type": "execute_result",
          "data": {
            "text/plain": [
              "0.9617486338797814"
            ]
          },
          "metadata": {},
          "execution_count": 11
        }
      ]
    }
  ]
}